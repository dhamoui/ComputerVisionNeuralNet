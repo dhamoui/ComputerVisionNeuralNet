{
 "cells": [
  {
   "cell_type": "code",
   "execution_count": 1,
   "metadata": {
    "collapsed": false
   },
   "outputs": [
    {
     "name": "stderr",
     "output_type": "stream",
     "text": [
      "Using TensorFlow backend.\n"
     ]
    },
    {
     "name": "stdout",
     "output_type": "stream",
     "text": [
      "Found 1000 images belonging to 1 classes.\n",
      "Loading model and weights from training process ...\n",
      "Begin to predict for testing data ...\n",
      "Begin to write submission file ..\n",
      "0 / 1000\n",
      "100 / 1000\n",
      "200 / 1000\n",
      "300 / 1000\n",
      "400 / 1000\n",
      "500 / 1000\n",
      "600 / 1000\n",
      "700 / 1000\n",
      "800 / 1000\n",
      "900 / 1000\n",
      "Submission file successfully generated!\n"
     ]
    }
   ],
   "source": [
    "from keras.models import load_model\n",
    "import os\n",
    "from keras.preprocessing.image import ImageDataGenerator\n",
    "import numpy as np\n",
    "\n",
    "\n",
    "img_width = 299\n",
    "img_height = 299\n",
    "batch_size = 32\n",
    "nbr_test_samples = 1000\n",
    "\n",
    "FishNames = ['ALB', 'BET', 'DOL', 'LAG', 'NoF', 'OTHER', 'SHARK', 'YFT']\n",
    "\n",
    "root_path = '/home/tyrael/Documents/ML/Fisheries/'\n",
    "\n",
    "weights_path = os.path.join(root_path, 'weights.h5')\n",
    "\n",
    "test_data_dir = os.path.join(root_path, 'test_stg1/')\n",
    "\n",
    "# test data generator for prediction\n",
    "test_datagen = ImageDataGenerator(rescale=1./255)\n",
    "\n",
    "test_generator = test_datagen.flow_from_directory(\n",
    "        test_data_dir,\n",
    "        target_size=(img_width, img_height),\n",
    "        batch_size=batch_size,\n",
    "        shuffle = False, # Important !!!\n",
    "        classes = None,\n",
    "        class_mode = None)\n",
    "\n",
    "test_image_list = test_generator.filenames\n",
    "\n",
    "print('Loading model and weights from training process ...')\n",
    "InceptionV3_model = load_model(weights_path)\n",
    "\n",
    "print('Begin to predict for testing data ...')\n",
    "predictions = InceptionV3_model.predict_generator(test_generator, nbr_test_samples)\n",
    "\n",
    "np.savetxt(os.path.join(root_path, 'predictions.txt'), predictions)\n",
    "\n",
    "\n",
    "print('Begin to write submission file ..')\n",
    "f_submit = open(os.path.join(root_path, 'submission.csv'), 'w')\n",
    "f_submit.write('image,ALB,BET,DOL,LAG,NoF,OTHER,SHARK,YFT\\n')\n",
    "for i, image_name in enumerate(test_image_list):\n",
    "    pred = ['%.6f' % p for p in predictions[i, :]]\n",
    "    if i % 100 == 0:\n",
    "        print('{} / {}'.format(i, nbr_test_samples))\n",
    "    f_submit.write('%s,%s\\n' % (os.path.basename(image_name), ','.join(pred)))\n",
    "\n",
    "f_submit.close()\n",
    "\n",
    "print('Submission file successfully generated!')"
   ]
  },
  {
   "cell_type": "code",
   "execution_count": null,
   "metadata": {
    "collapsed": true
   },
   "outputs": [],
   "source": []
  }
 ],
 "metadata": {
  "kernelspec": {
   "display_name": "Python 3",
   "language": "python",
   "name": "python3"
  },
  "language_info": {
   "codemirror_mode": {
    "name": "ipython",
    "version": 3
   },
   "file_extension": ".py",
   "mimetype": "text/x-python",
   "name": "python",
   "nbconvert_exporter": "python",
   "pygments_lexer": "ipython3",
   "version": "3.5.2"
  }
 },
 "nbformat": 4,
 "nbformat_minor": 2
}
